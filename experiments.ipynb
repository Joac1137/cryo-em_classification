{
 "cells": [
  {
   "cell_type": "code",
   "execution_count": 13,
   "metadata": {},
   "outputs": [],
   "source": [
    "import cryo_em_select"
   ]
  },
  {
   "cell_type": "code",
   "execution_count": 19,
   "metadata": {},
   "outputs": [
    {
     "ename": "TypeError",
     "evalue": "CryoBatchGenerator.__init__() missing 2 required positional arguments: 'X' and 'batch_size'",
     "output_type": "error",
     "traceback": [
      "\u001b[1;31m---------------------------------------------------------------------------\u001b[0m",
      "\u001b[1;31mTypeError\u001b[0m                                 Traceback (most recent call last)",
      "Cell \u001b[1;32mIn [19], line 1\u001b[0m\n\u001b[1;32m----> 1\u001b[0m test \u001b[39m=\u001b[39m cryo_em_select\u001b[39m.\u001b[39;49mCryoBatchGenerator()\n",
      "\u001b[1;31mTypeError\u001b[0m: CryoBatchGenerator.__init__() missing 2 required positional arguments: 'X' and 'batch_size'"
     ]
    }
   ],
   "source": [
    "test = cryo_em_select.CryoBatchGenerator()"
   ]
  }
 ],
 "metadata": {
  "kernelspec": {
   "display_name": "Python 3.10.8 ('.venv': venv)",
   "language": "python",
   "name": "python3"
  },
  "language_info": {
   "codemirror_mode": {
    "name": "ipython",
    "version": 3
   },
   "file_extension": ".py",
   "mimetype": "text/x-python",
   "name": "python",
   "nbconvert_exporter": "python",
   "pygments_lexer": "ipython3",
   "version": "3.10.8"
  },
  "orig_nbformat": 4,
  "vscode": {
   "interpreter": {
    "hash": "f62b1ab7cff934f28c61cc92759830916f8c37ac8bbc72dfda83f9a41567df57"
   }
  }
 },
 "nbformat": 4,
 "nbformat_minor": 2
}
