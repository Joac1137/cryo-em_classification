{
 "cells": [
  {
   "cell_type": "code",
   "execution_count": 1,
   "metadata": {},
   "outputs": [],
   "source": [
    "import cryo_em_select as cryo\n"
   ]
  },
  {
   "cell_type": "code",
   "execution_count": 5,
   "metadata": {},
   "outputs": [
    {
     "name": "stdout",
     "output_type": "stream",
     "text": [
      "[WindowsPath('c:/Users/Joachim Brendborg/Documents/Universitet/7. Semester/Deep Learning for Visual Recognition/cryo-em_segmentation/data_example/raw_data/May08_03.15.02.bin_avg.png'), WindowsPath('c:/Users/Joachim Brendborg/Documents/Universitet/7. Semester/Deep Learning for Visual Recognition/cryo-em_segmentation/data_example/raw_data/May08_03.43.44.bin_avg.png')]\n"
     ]
    },
    {
     "data": {
      "text/plain": [
       "9"
      ]
     },
     "execution_count": 5,
     "metadata": {},
     "output_type": "execute_result"
    }
   ],
   "source": [
    "from pathlib import Path\n",
    "import os\n",
    "\n",
    "data_path = [x for x in Path(str(os.getcwd()) + '/data_example/raw_data/').iterdir()]\n",
    "test = cryo.CryoBatchGenerator(data_path, batch_size=2)\n",
    "test.__getitem__(1)\n",
    "test.__len__()"
   ]
  },
  {
   "cell_type": "code",
   "execution_count": 3,
   "metadata": {},
   "outputs": [
    {
     "name": "stdout",
     "output_type": "stream",
     "text": [
      "c:\\Users\\Joachim Brendborg\\Documents\\Universitet\\7. Semester\\Deep Learning for Visual Recognition\\cryo-em_segmentation\n"
     ]
    }
   ],
   "source": [
    "import os\n",
    "print(os.getcwd())"
   ]
  },
  {
   "cell_type": "code",
   "execution_count": null,
   "metadata": {},
   "outputs": [],
   "source": []
  }
 ],
 "metadata": {
  "kernelspec": {
   "display_name": "Python 3.10.8 ('.venv': venv)",
   "language": "python",
   "name": "python3"
  },
  "language_info": {
   "codemirror_mode": {
    "name": "ipython",
    "version": 3
   },
   "file_extension": ".py",
   "mimetype": "text/x-python",
   "name": "python",
   "nbconvert_exporter": "python",
   "pygments_lexer": "ipython3",
   "version": "3.10.8"
  },
  "orig_nbformat": 4,
  "vscode": {
   "interpreter": {
    "hash": "480cda96569ab85f37f7ac726bf8e004593cb752a33bc223d7efe963d28bc93f"
   }
  }
 },
 "nbformat": 4,
 "nbformat_minor": 2
}
