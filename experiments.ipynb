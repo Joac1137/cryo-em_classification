{
 "cells": [
  {
   "cell_type": "code",
   "execution_count": null,
   "metadata": {},
   "outputs": [],
   "source": [
    "# import keras\n",
    "# import cryo_em_select as cryo\n",
    "# #model.model.save(\"C:\\\\Users\\\\Joachim Brendborg\\\\Documents\\\\Universitet\\\\7. Semester\\\\Deep Learning for Visual Recognition\\\\cryo-em_segmentation\\\\model\")\n",
    "# model = keras.models.load_model(\"C:\\\\Users\\\\Joachim Brendborg\\\\Documents\\\\Universitet\\\\7. Semester\\\\Deep Learning for Visual Recognition\\\\cryo-em_segmentation\\\\model\")\n",
    "# model = cryo.CryoEmNet(batch_size=2, image_size=(224,224,3), model=model)"
   ]
  },
  {
   "cell_type": "code",
   "execution_count": 1,
   "metadata": {},
   "outputs": [
    {
     "name": "stdout",
     "output_type": "stream",
     "text": [
      "Model: \"model\"\n",
      "_________________________________________________________________\n",
      " Layer (type)                Output Shape              Param #   \n",
      "=================================================================\n",
      " input_1 (InputLayer)        [(None, 224, 224, 3)]     0         \n",
      "                                                                 \n",
      " conv2d (Conv2D)             (None, 224, 224, 8)       224       \n",
      "                                                                 \n",
      " batch_normalization (BatchN  (None, 224, 224, 8)      32        \n",
      " ormalization)                                                   \n",
      "                                                                 \n",
      " leaky_re_lu (LeakyReLU)     (None, 224, 224, 8)       0         \n",
      "                                                                 \n",
      " max_pooling2d (MaxPooling2D  (None, 112, 112, 8)      0         \n",
      " )                                                               \n",
      "                                                                 \n",
      " conv2d_1 (Conv2D)           (None, 112, 112, 16)      1168      \n",
      "                                                                 \n",
      " batch_normalization_1 (Batc  (None, 112, 112, 16)     64        \n",
      " hNormalization)                                                 \n",
      "                                                                 \n",
      " leaky_re_lu_1 (LeakyReLU)   (None, 112, 112, 16)      0         \n",
      "                                                                 \n",
      " max_pooling2d_1 (MaxPooling  (None, 56, 56, 16)       0         \n",
      " 2D)                                                             \n",
      "                                                                 \n",
      " conv2d_2 (Conv2D)           (None, 56, 56, 32)        4640      \n",
      "                                                                 \n",
      " batch_normalization_2 (Batc  (None, 56, 56, 32)       128       \n",
      " hNormalization)                                                 \n",
      "                                                                 \n",
      " leaky_re_lu_2 (LeakyReLU)   (None, 56, 56, 32)        0         \n",
      "                                                                 \n",
      " max_pooling2d_2 (MaxPooling  (None, 28, 28, 32)       0         \n",
      " 2D)                                                             \n",
      "                                                                 \n",
      " conv2d_3 (Conv2D)           (None, 28, 28, 64)        18496     \n",
      "                                                                 \n",
      " batch_normalization_3 (Batc  (None, 28, 28, 64)       256       \n",
      " hNormalization)                                                 \n",
      "                                                                 \n",
      " leaky_re_lu_3 (LeakyReLU)   (None, 28, 28, 64)        0         \n",
      "                                                                 \n",
      " conv2d_4 (Conv2D)           (None, 28, 28, 32)        18464     \n",
      "                                                                 \n",
      " batch_normalization_4 (Batc  (None, 28, 28, 32)       128       \n",
      " hNormalization)                                                 \n",
      "                                                                 \n",
      " leaky_re_lu_4 (LeakyReLU)   (None, 28, 28, 32)        0         \n",
      "                                                                 \n",
      " up_sampling2d (UpSampling2D  (None, 56, 56, 32)       0         \n",
      " )                                                               \n",
      "                                                                 \n",
      " conv2d_5 (Conv2D)           (None, 56, 56, 16)        4624      \n",
      "                                                                 \n",
      " batch_normalization_5 (Batc  (None, 56, 56, 16)       64        \n",
      " hNormalization)                                                 \n",
      "                                                                 \n",
      " leaky_re_lu_5 (LeakyReLU)   (None, 56, 56, 16)        0         \n",
      "                                                                 \n",
      " up_sampling2d_1 (UpSampling  (None, 112, 112, 16)     0         \n",
      " 2D)                                                             \n",
      "                                                                 \n",
      " conv2d_6 (Conv2D)           (None, 112, 112, 8)       1160      \n",
      "                                                                 \n",
      " batch_normalization_6 (Batc  (None, 112, 112, 8)      32        \n",
      " hNormalization)                                                 \n",
      "                                                                 \n",
      " leaky_re_lu_6 (LeakyReLU)   (None, 112, 112, 8)       0         \n",
      "                                                                 \n",
      " up_sampling2d_2 (UpSampling  (None, 224, 224, 8)      0         \n",
      " 2D)                                                             \n",
      "                                                                 \n",
      " conv2d_7 (Conv2D)           (None, 224, 224, 1)       9         \n",
      "                                                                 \n",
      "=================================================================\n",
      "Total params: 49,489\n",
      "Trainable params: 49,137\n",
      "Non-trainable params: 352\n",
      "_________________________________________________________________\n",
      "c:\\Users\\Joachim Brendborg\\Documents\\Universitet\\7. Semester\\Deep Learning for Visual Recognition\\cryo-em_segmentation\\data\\label_annotation\\FoilHole_16384305_Data_16383479_16383481_20201016_164256_fractions-points.csv\n",
      "c:\\Users\\Joachim Brendborg\\Documents\\Universitet\\7. Semester\\Deep Learning for Visual Recognition\\cryo-em_segmentation\\data\\label_annotation\\FoilHole_16384305_Data_16383672_16383674_20201016_164307_fractions-points.csv\n"
     ]
    },
    {
     "name": "stderr",
     "output_type": "stream",
     "text": [
      "c:\\Users\\Joachim Brendborg\\Documents\\Universitet\\7. Semester\\Deep Learning for Visual Recognition\\cryo-em_segmentation\\cryo_em_select.py:96: VisibleDeprecationWarning: Creating an ndarray from ragged nested sequences (which is a list-or-tuple of lists-or-tuples-or ndarrays with different lengths or shapes) is deprecated. If you meant to do this, you must specify 'dtype=object' when creating the ndarray.\n",
      "  X_batch = np.asarray(X_batch)\n",
      "c:\\Users\\Joachim Brendborg\\Documents\\Universitet\\7. Semester\\Deep Learning for Visual Recognition\\cryo-em_segmentation\\cryo_em_select.py:98: VisibleDeprecationWarning: Creating an ndarray from ragged nested sequences (which is a list-or-tuple of lists-or-tuples-or ndarrays with different lengths or shapes) is deprecated. If you meant to do this, you must specify 'dtype=object' when creating the ndarray.\n",
      "  Y_batch = np.asarray(Y_batch)\n"
     ]
    },
    {
     "ename": "ValueError",
     "evalue": "Failed to convert a NumPy array to a Tensor (Unsupported object type numpy.ndarray).",
     "output_type": "error",
     "traceback": [
      "\u001b[1;31m---------------------------------------------------------------------------\u001b[0m",
      "\u001b[1;31mValueError\u001b[0m                                Traceback (most recent call last)",
      "Cell \u001b[1;32mIn [1], line 4\u001b[0m\n\u001b[0;32m      1\u001b[0m \u001b[39mimport\u001b[39;00m \u001b[39mcryo_em_select\u001b[39;00m \u001b[39mas\u001b[39;00m \u001b[39mcryo\u001b[39;00m\n\u001b[0;32m      3\u001b[0m model \u001b[39m=\u001b[39m cryo\u001b[39m.\u001b[39mCryoEmNet(batch_size\u001b[39m=\u001b[39m\u001b[39m2\u001b[39m, image_size\u001b[39m=\u001b[39m(\u001b[39m224\u001b[39m,\u001b[39m224\u001b[39m,\u001b[39m3\u001b[39m))\n\u001b[1;32m----> 4\u001b[0m model\u001b[39m.\u001b[39;49mtrain(\n\u001b[0;32m      5\u001b[0m     learning_rate\u001b[39m=\u001b[39;49m\u001b[39m10\u001b[39;49m \u001b[39m*\u001b[39;49m\u001b[39m*\u001b[39;49m \u001b[39m-\u001b[39;49m\u001b[39m2\u001b[39;49m, \n\u001b[0;32m      6\u001b[0m     epochs\u001b[39m=\u001b[39;49m\u001b[39m1\u001b[39;49m)\n",
      "File \u001b[1;32mc:\\Users\\Joachim Brendborg\\Documents\\Universitet\\7. Semester\\Deep Learning for Visual Recognition\\cryo-em_segmentation\\cryo_em_select.py:481\u001b[0m, in \u001b[0;36mCryoEmNet.train\u001b[1;34m(self, filepath, nb_epoch_early, warmrestarts, learning_rate, epochs)\u001b[0m\n\u001b[0;32m    466\u001b[0m optimizer \u001b[39m=\u001b[39m Adam(\n\u001b[0;32m    467\u001b[0m     learning_rate\u001b[39m=\u001b[39mlearning_rate,\n\u001b[0;32m    468\u001b[0m     beta_1\u001b[39m=\u001b[39m\u001b[39m0.9\u001b[39m,\n\u001b[1;32m   (...)\u001b[0m\n\u001b[0;32m    472\u001b[0m     name\u001b[39m=\u001b[39m\u001b[39m\"\u001b[39m\u001b[39mAdam\u001b[39m\u001b[39m\"\u001b[39m,\n\u001b[0;32m    473\u001b[0m )\n\u001b[0;32m    475\u001b[0m \u001b[39mself\u001b[39m\u001b[39m.\u001b[39mmodel\u001b[39m.\u001b[39mcompile(\n\u001b[0;32m    476\u001b[0m     optimizer\u001b[39m=\u001b[39moptimizer, \n\u001b[0;32m    477\u001b[0m     loss\u001b[39m=\u001b[39m\u001b[39m'\u001b[39m\u001b[39mmse\u001b[39m\u001b[39m'\u001b[39m, \n\u001b[0;32m    478\u001b[0m     metrics\u001b[39m=\u001b[39m[\u001b[39m'\u001b[39m\u001b[39maccuracy\u001b[39m\u001b[39m'\u001b[39m],\n\u001b[0;32m    479\u001b[0m )\n\u001b[1;32m--> 481\u001b[0m \u001b[39mself\u001b[39;49m\u001b[39m.\u001b[39;49mmodel\u001b[39m.\u001b[39;49mfit(\n\u001b[0;32m    482\u001b[0m     train_generator,\n\u001b[0;32m    483\u001b[0m     epochs\u001b[39m=\u001b[39;49mepochs,\n\u001b[0;32m    484\u001b[0m     callbacks\u001b[39m=\u001b[39;49mall_callbacks\n\u001b[0;32m    485\u001b[0m )\n",
      "File \u001b[1;32mc:\\Users\\Joachim Brendborg\\Documents\\Universitet\\7. Semester\\Deep Learning for Visual Recognition\\cryo-em_segmentation\\.venv\\lib\\site-packages\\keras\\utils\\traceback_utils.py:70\u001b[0m, in \u001b[0;36mfilter_traceback.<locals>.error_handler\u001b[1;34m(*args, **kwargs)\u001b[0m\n\u001b[0;32m     67\u001b[0m     filtered_tb \u001b[39m=\u001b[39m _process_traceback_frames(e\u001b[39m.\u001b[39m__traceback__)\n\u001b[0;32m     68\u001b[0m     \u001b[39m# To get the full stack trace, call:\u001b[39;00m\n\u001b[0;32m     69\u001b[0m     \u001b[39m# `tf.debugging.disable_traceback_filtering()`\u001b[39;00m\n\u001b[1;32m---> 70\u001b[0m     \u001b[39mraise\u001b[39;00m e\u001b[39m.\u001b[39mwith_traceback(filtered_tb) \u001b[39mfrom\u001b[39;00m \u001b[39mNone\u001b[39m\n\u001b[0;32m     71\u001b[0m \u001b[39mfinally\u001b[39;00m:\n\u001b[0;32m     72\u001b[0m     \u001b[39mdel\u001b[39;00m filtered_tb\n",
      "File \u001b[1;32mc:\\Users\\Joachim Brendborg\\Documents\\Universitet\\7. Semester\\Deep Learning for Visual Recognition\\cryo-em_segmentation\\.venv\\lib\\site-packages\\tensorflow\\python\\framework\\constant_op.py:102\u001b[0m, in \u001b[0;36mconvert_to_eager_tensor\u001b[1;34m(value, ctx, dtype)\u001b[0m\n\u001b[0;32m    100\u001b[0m     dtype \u001b[39m=\u001b[39m dtypes\u001b[39m.\u001b[39mas_dtype(dtype)\u001b[39m.\u001b[39mas_datatype_enum\n\u001b[0;32m    101\u001b[0m ctx\u001b[39m.\u001b[39mensure_initialized()\n\u001b[1;32m--> 102\u001b[0m \u001b[39mreturn\u001b[39;00m ops\u001b[39m.\u001b[39;49mEagerTensor(value, ctx\u001b[39m.\u001b[39;49mdevice_name, dtype)\n",
      "\u001b[1;31mValueError\u001b[0m: Failed to convert a NumPy array to a Tensor (Unsupported object type numpy.ndarray)."
     ]
    }
   ],
   "source": [
    "import cryo_em_select as cryo\n",
    "\n",
    "model = cryo.CryoEmNet(batch_size=2, image_size=(224,224,3))\n",
    "model.train(\n",
    "    learning_rate=10 ** -2, \n",
    "    epochs=1)"
   ]
  },
  {
   "cell_type": "code",
   "execution_count": null,
   "metadata": {},
   "outputs": [],
   "source": [
    "%load_ext tensorboard\n",
    "%tensorboard --logdir logs/cinderella_5/train"
   ]
  },
  {
   "cell_type": "code",
   "execution_count": null,
   "metadata": {},
   "outputs": [],
   "source": [
    "import os\n",
    "from pathlib import Path\n",
    "\n",
    "p = Path(os.getcwd()) / 'output'\n",
    "\n",
    "for file in p.iterdir():\n",
    "    if file.suffix == '.csv':\n",
    "        os.rename(str(file), os.path.join(os.getcwd(), 'data\\\\label_annotation', str(file.name)))\n",
    "    else:\n",
    "        os.rename(str(file), os.path.join(os.getcwd(), 'data\\\\raw_data', str(file.name)))"
   ]
  }
 ],
 "metadata": {
  "kernelspec": {
   "display_name": "Python 3.10.8 ('.venv': venv)",
   "language": "python",
   "name": "python3"
  },
  "language_info": {
   "codemirror_mode": {
    "name": "ipython",
    "version": 3
   },
   "file_extension": ".py",
   "mimetype": "text/x-python",
   "name": "python",
   "nbconvert_exporter": "python",
   "pygments_lexer": "ipython3",
   "version": "3.10.8"
  },
  "orig_nbformat": 4,
  "vscode": {
   "interpreter": {
    "hash": "480cda96569ab85f37f7ac726bf8e004593cb752a33bc223d7efe963d28bc93f"
   }
  }
 },
 "nbformat": 4,
 "nbformat_minor": 2
}
